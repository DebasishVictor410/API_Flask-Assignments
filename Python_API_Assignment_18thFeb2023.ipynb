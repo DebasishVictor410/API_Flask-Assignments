{
 "cells": [
  {
   "cell_type": "markdown",
   "id": "ec9d8223",
   "metadata": {},
   "source": [
    "### Q1. What is an API? Give an example, where an API is used in real life."
   ]
  },
  {
   "cell_type": "code",
   "execution_count": 2,
   "id": "4b2570a1",
   "metadata": {},
   "outputs": [],
   "source": [
    "#### API means appliaction programming interface\n",
    "#### API is the medium by which difeerent softwares interacts\n",
    "#### it creates a bridge between different homogenous or hetrogeneous apps\n",
    "#### We can think api as a waiter from customer to food manager\n",
    "\n",
    "#### example..\n",
    "#### whwn we try to login our gamil account then we give our email id or phone\n",
    "#### also give our password\n",
    "#### actually in the backend it first check whether this gmail exists or not\n",
    "#### if exists then it checks he password matches or not \n",
    "#### after that if all goes right then connenction established\n",
    "#### here we can communicate two hetrogenous system \n",
    "#### we can do that for only API\n",
    "#### in this case we are using Web API"
   ]
  },
  {
   "cell_type": "markdown",
   "id": "a01134d5",
   "metadata": {},
   "source": [
    "### Q2. Give advantages and disadvantages of using API. "
   ]
  },
  {
   "cell_type": "code",
   "execution_count": 3,
   "id": "0afb5e9f",
   "metadata": {},
   "outputs": [],
   "source": [
    "#### Pros...\n",
    "#### it increases Visibility\n",
    "#### it allows to share data and functionality to a broader audience\n",
    "#### it increases traffic and visibility for your website\n",
    "#### we can integrate woth apps and services with reasonable ampunt of time\n",
    "#### it increases efficiency\n",
    "#### it allows ypu to access data and different functions without navigating\n",
    "#### different pagination or screens\n",
    "#### it makes apps more friendly\n",
    "#### it reduces the work for backend\n",
    "#### it makes our system's maintenance more effortless\n",
    "#### it speeds up the development process\n",
    "#### we can reuse api for multiple apps by which we can reduce cost with code\n",
    "\n",
    "#### Cons...\n",
    "#### it canbe complex and challenging for novice developers\n",
    "#### api maynot have all the functionalities for my app\n",
    "#### api depends on third party service , which can be unavilable\n",
    "#### api implementation if not correct then it can pose a security issue\n",
    "#### it also creates privacy issues at that cases"
   ]
  },
  {
   "cell_type": "markdown",
   "id": "f22aaabf",
   "metadata": {},
   "source": [
    "### Q3. What is a Web API? Differentiate between API and Web API."
   ]
  },
  {
   "cell_type": "code",
   "execution_count": 4,
   "id": "0d47f709",
   "metadata": {},
   "outputs": [],
   "source": [
    "#### Web API is web based API\n",
    "#### API and Web service serve as a means of communication.\n",
    "#### The only difference is that a Web API interacts between two machines \n",
    "#### over a network where as an API acts as an interface between two different \n",
    "#### applications so that they can communicate with each other.\n",
    "#### An API is a method by which third-party vendors can write programs\n",
    "#### which can interface easily with other programs\n",
    "#### which is written in Web Service Description Language (WSDL)\n",
    "#### A Web API can only work in specified format like HTTP\n",
    "#### There are two architecture REST and SOAP \n",
    "#### For web API we use REST for HTTP protocol\n",
    "#### for different functionalities like get,put,post,delete\n",
    "#### for API we use SOAP\n",
    "#### it supports HTTP,HTTps ,TCP protocol,JSON also\n",
    "#### all web api's is API\n",
    "#### but all API's is not web API"
   ]
  },
  {
   "cell_type": "markdown",
   "id": "f5b1683b",
   "metadata": {},
   "source": [
    "### Q4. Explain REST and SOAP Architecture. Mention shortcomings of SOAP."
   ]
  },
  {
   "cell_type": "code",
   "execution_count": 7,
   "id": "7f5fed5a",
   "metadata": {},
   "outputs": [],
   "source": [
    "#### REST and SOAP are 2 different approaches to online data transmission\n",
    "#### Specifically, both define how to build application programming interfaces\n",
    "#### API is used to data to be communicated between web applications\n",
    "#### Representational state transfer(REST) is a set of principle\n",
    "#### where simple object access protocol(SOAP) is an official protocol \n",
    "#### World Wide Web Consortium(W3C) maintained SOAP\n",
    "#### The main difference is that SOAP is a protocol while REST is not\n",
    "#### Typically, an API canbe made using REST or SOAP\n",
    "\n",
    "#### REST\n",
    "#### REST is a set of principles \n",
    "#### it is lightweight and used for web services and mobile applications\n",
    "#### no omplementation is there \n",
    "#### it leaves the implementation to developers\n",
    "#### When a request for data is sent to a REST API\n",
    "#### it’s usually done through hypertext transfer protocol(HTTP)\n",
    "#### when a request is received, APIs designed for REST \n",
    "#### RESTful APIs or RESTful web services can return messages \n",
    "#### this message canbe in a variety of formats: HTML, XML, plain text, and JSON\n",
    "#### then it is read by any programming language \n",
    "#### it is human- and machine-readable, and is lightweight. \n",
    "#### it is more flexible and can be easier to set up.\n",
    "#### for calling an api as a restful api it should follow :::\n",
    "####     client-server architecture\n",
    "####     stateless communucation that means that no client information is stored\n",
    "####     in server between requests\n",
    "####     cacheable data eliminate the client-server interaction\n",
    "####     there should be a uniform interface between componenets\n",
    "####     there should be layered system\n",
    "####     allowing servers to extend code as demands hit on server\n",
    "\n",
    "\n",
    "#### SOAP\n",
    "#### SOAP is a standard protocol that is used for \n",
    "#### applications built with different languages and on different platforms \n",
    "#### so that they can communicate\n",
    "#### Because it is a protocol,it has some inbuilt rules that \n",
    "#### it increases its complexity and overhead\n",
    "#### which can lead to longer page load times\n",
    "#### When a request for data is sent to a SOAP API\n",
    "#### it can be handled through any of the application layer protocols\n",
    "#### canbe handled by HTTP (for web browsers)\n",
    "#### canbe handled by SMTP (for email)\n",
    "#### canbe handled by TCP and others\n",
    "#### However, once a request is received\n",
    "#### the message is delivered as XML\n",
    "#### which means extendable markup language \n",
    "#### that is both human and machine-readable. \n",
    "#### SOAP API request is not cacheable by a browser\n",
    "#### so it cannot be accessed later \n",
    "#### if we want that we must resend it to the API.\n"
   ]
  },
  {
   "cell_type": "markdown",
   "id": "1d77e188",
   "metadata": {},
   "source": [
    "### Q5.Differentiate between REST and SOAP"
   ]
  },
  {
   "cell_type": "code",
   "execution_count": 8,
   "id": "310728b9",
   "metadata": {},
   "outputs": [],
   "source": [
    "#### Many legacy systems still adhere to SOAP\n",
    "#### while REST came later\n",
    "#### its faster compared to SOAP\n",
    "#### it bascically used in web-based scenarios\n",
    "#### REST is a set of guidelines and its not demonstrated\n",
    "#### It offers flexible implementation to the developers\n",
    "#### whereas SOAP is a protocol with specific instructions\n",
    "#### Its requirement is such like XML messaging.\n",
    "#### REST APIs are lightweight\n",
    "#### good for the Internet of Things (IoT)\n",
    "#### mobile application and web application and serverless computing\n",
    "#### SOAP web services offer built-in security and transaction compliance\n",
    "#### It is aligned with many enterprise but that also makes them heavier\n",
    "#### Additionally Google Maps API, follow the REST guidelines.\n",
    "#### SOAP can only work with XML but REST can work with JSON,HTML etc\n",
    "#### SOAP needs more data bandwidth as lots of information there"
   ]
  },
  {
   "cell_type": "code",
   "execution_count": null,
   "id": "13907942",
   "metadata": {},
   "outputs": [],
   "source": []
  }
 ],
 "metadata": {
  "kernelspec": {
   "display_name": "Python 3 (ipykernel)",
   "language": "python",
   "name": "python3"
  },
  "language_info": {
   "codemirror_mode": {
    "name": "ipython",
    "version": 3
   },
   "file_extension": ".py",
   "mimetype": "text/x-python",
   "name": "python",
   "nbconvert_exporter": "python",
   "pygments_lexer": "ipython3",
   "version": "3.9.13"
  }
 },
 "nbformat": 4,
 "nbformat_minor": 5
}
